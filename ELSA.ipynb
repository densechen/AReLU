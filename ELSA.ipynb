{
 "cells": [
  {
   "cell_type": "markdown",
   "metadata": {},
   "source": [
    "# Training on CIFAR-10 data\n",
    "\n",
    "## Define the model\n",
    "\n",
    "We now define the `DeepNN` model and several functions that load and prepare the data. Finally, we arrive at the function `setup_and_train`, that defines, trains and evaluates the model, and takes the following parameters as input:\n",
    "\n",
    "`activation` : Defines activations: CELU, ELU, GELU, LeakyReLU, Maxout, ReLU, ReLU6, RReLU, SELU, Sigmoid, Softplus\n",
    "    Swish, Tanh, APL, Mixture, PAU, PReLU, SLAF, AReLU\n",
    "\n",
    "`epochs` : Number of epochs to train\n",
    "\n",
    "`depth` : Depth of NN\n",
    "\n",
    "`width` : Width of NN\n",
    "\n",
    "`lr` : Learning rate"
   ]
  },
  {
   "cell_type": "code",
   "execution_count": 1,
   "metadata": {},
   "outputs": [
    {
     "data": {
      "text/plain": [
       "<torch._C.Generator at 0x7fa315b458b0>"
      ]
     },
     "execution_count": 1,
     "metadata": {},
     "output_type": "execute_result"
    }
   ],
   "source": [
    "######################################################################\n",
    "# Import and set manual seed\n",
    "\n",
    "import torch\n",
    "import torchvision\n",
    "import torchvision.transforms as transforms\n",
    "import torch.nn as nn\n",
    "import torch.nn.functional as F\n",
    "import torch.optim as optim\n",
    "import time\n",
    "import numpy as np\n",
    "import matplotlib.pyplot as plt\n",
    "from matplotlib.backends.backend_pdf import PdfPages\n",
    "import activations\n",
    "\n",
    "torch.manual_seed(0)"
   ]
  },
  {
   "cell_type": "code",
   "execution_count": 9,
   "metadata": {},
   "outputs": [
    {
     "name": "stdout",
     "output_type": "stream",
     "text": [
      "Files already downloaded and verified\n"
     ]
    }
   ],
   "source": [
    "########################################################################\n",
    "# Download and define the training set.\n",
    "\n",
    "batchsize = 128\n",
    "transform = transforms.Compose([transforms.ToTensor(),\n",
    "                                transforms.Normalize((0.5, 0.5, 0.5), (0.5, 0.5, 0.5))])\n",
    "trainset = torchvision.datasets.CIFAR10(root='/home/densechen/dataset', train=True,\n",
    "                                        download=True, transform=transform)\n",
    "trainloader = torch.utils.data.DataLoader(trainset, batch_size=batchsize,\n",
    "                                          shuffle=True, num_workers=2)\n",
    "device = \"cuda:0\"\n",
    "\n",
    "\n",
    "########################################################################\n",
    "#Define input-output Jacobian\n",
    "\n",
    "def get_jacobian(model, x):\n",
    "    nc = x.size()[0]\n",
    "    ny = x.size()[2]\n",
    "    nx = x.size()[1]\n",
    "    noutputs = 10\n",
    "    x = x.reshape(nc*nx*ny)\n",
    "    x = x.repeat(noutputs,1)\n",
    "    x.requires_grad_(True)\n",
    "    y = model(x.reshape(noutputs,nc,nx,ny))\n",
    "    y.backward(torch.eye(noutputs).to(device))\n",
    "    return x.grad.data\n",
    "\n",
    "\n",
    "########################################################################\n",
    "# Define activation with ELSA\n",
    "class ELSA(nn.Module):\n",
    "    def __init__(self, activation: str = \"ReLU\", with_elsa: bool=False, **kwargs):\n",
    "        super().__init__()\n",
    "        self.activation = activations.__class_dict__[activation](**kwargs)\n",
    "        self.with_elsa = with_elsa\n",
    "        \n",
    "        if self.with_elsa:\n",
    "            self.alpha = nn.Parameter(torch.tensor([kwargs.get(\"alpha\", 0.90)]))\n",
    "            self.beta = nn.Parameter(torch.tensor([kwargs.get(\"beta\", 2.0)]))\n",
    "    \n",
    "    def forward(self, x: torch.Tensor) -> torch.Tensor:\n",
    "        if self.with_elsa:\n",
    "            alpha = torch.clamp(self.alpha, min=0.01, max=0.99)\n",
    "            beta = torch.sigmoid(self.beta)\n",
    "            \n",
    "            return self.activation(x) + torch.where(x > 0, x * self.beta, x * self.alpha)\n",
    "        else:\n",
    "            return self.activation(x)\n",
    "\n",
    "########################################################################\n",
    "# Define fully connected network with different activation functions.\n",
    "\n",
    "class DeepNN(nn.Module):\n",
    "    def __init__(self, width: int, depth: int, activation: str=\"ReLU\", with_elsa: bool = False, **kwargs):\n",
    "        \"\"\"\n",
    "            :param width: the width of linear layer.\n",
    "            :param depth: the depth of linear layer.\n",
    "            :param activation: the activation used in this layer.\n",
    "            :param with_elsa: whether with elsa or not.\n",
    "            :param kwargs: the arguments delivered to activation functions.\n",
    "        \"\"\"\n",
    "        super(DeepNN, self).__init__()\n",
    "        \n",
    "        self.linear_input = nn.Linear(3*32*32, width)\n",
    "        self.activation_input = ELSA(activation, with_elsa=with_elsa, **kwargs)\n",
    "        \n",
    "        self.linear_layers = nn.ModuleList([nn.Sequential(nn.Linear(width, width), \n",
    "                                                          ELSA(activation, with_elsa=with_elsa, **kwargs))\n",
    "                                            for i in range(depth)])\n",
    "        \n",
    "        self.linear_output = nn.Linear(width, 10)\n",
    "        \n",
    "    def forward(self, x):\n",
    "        x = x.view(-1, 3*32*32)\n",
    "        x = self.activation_input(self.linear_input(x))\n",
    "        \n",
    "        for layer in self.linear_layers:\n",
    "            x = layer(x)\n",
    "        x = self.linear_output(x)\n",
    "        return x\n",
    "\n",
    "def setup_and_train(\n",
    "    epochs: int=10, lr: float=1e-3, width: int=256, depth: int=2, \n",
    "    activation: str = \"ReLU\", plt_jacobian: bool = True, **kwargs):\n",
    "\n",
    "    def train(with_elsa: bool = False):\n",
    "        ######################################################################\n",
    "        # Model setup\n",
    "        model = DeepNN(width, depth, activation, with_elsa=with_elsa, **kwargs)\n",
    "        model.to(device);\n",
    "        ######################################################################\n",
    "        # Define criterion and optimizer\n",
    "        criterion = torch.nn.CrossEntropyLoss()\n",
    "        optimizer = torch.optim.SGD(model.parameters(), lr = lr)\n",
    "\n",
    "        ######################################################################\n",
    "        # Train the model\n",
    "        model.train()\n",
    "        for epoch in range(epochs):  # loop over the dataset multiple times\n",
    "            epoch_start_time = time.time()\n",
    "            running_loss = 0.0\n",
    "            log_interval = 100\n",
    "            for batch, data in enumerate(trainloader, 0):\n",
    "                # get the inputs; data is a list of [inputs, labels]\n",
    "                inputs, labels = data[0].to(device), data[1].to(device)\n",
    "\n",
    "                # zero the parameter gradients\n",
    "                optimizer.zero_grad()\n",
    "\n",
    "                # forward + backward + optimize\n",
    "                outputs = model(inputs)\n",
    "                loss = criterion(outputs, labels)\n",
    "                loss.backward()\n",
    "                optimizer.step()\n",
    "                # print statistics\n",
    "                running_loss += loss.item()\n",
    "            cur_loss = running_loss / (batch+1)\n",
    "            print('| end of epoch {:3d} | time / epoch {:5.2f}s | loss {:5.2f}'.format\n",
    "                  (epoch+1, (time.time() - epoch_start_time),cur_loss))\n",
    "            running_loss = 0.\n",
    "        return model\n",
    "    \n",
    "    def gather(model):\n",
    "        d_collected = list()\n",
    "        u_collected = list()\n",
    "        for i in range(100):\n",
    "            src = torch.randn(3, 32, 32).to(device)\n",
    "            J = get_jacobian(model,src)\n",
    "            v, d, u = torch.svd(J.to('cpu'))\n",
    "            d_collected.append(d.numpy().tolist())\n",
    "            u_collected.append(u.numpy().tolist())\n",
    "        d_ = np.asarray(d_collected).flatten()\n",
    "        y = np.log(d_)/np.log(10)\n",
    "        return y\n",
    "\n",
    "    with PdfPages(f\"pictures/{activation}.pdf\") as pdf:\n",
    "        # train without elsa\n",
    "        print(\"train model without ELSA\")\n",
    "        print(\"---\"*10)\n",
    "        model = train(with_elsa=False)\n",
    "        y = gather(model)\n",
    "\n",
    "        fig, ax = plt.subplots()\n",
    "        opacity=.7\n",
    "        plt.ylim((0,4))\n",
    "        plt.xlim((-4,2))\n",
    "\n",
    "        ax.hist(y, bins = 10, alpha = opacity, label = activation + \" w/o ELSA\",\n",
    "                density = True)\n",
    "\n",
    "        # train with elsa\n",
    "        print(\"\\ntrain model with ELSA\")\n",
    "        print(\"---\"*10)\n",
    "        model = train(with_elsa=True)\n",
    "        y = gather(model)\n",
    "        ax.hist(y, bins = 10, alpha = opacity, label = activation + \" w/ ELSA\",\n",
    "                density = True)\n",
    "\n",
    "        ax.legend(loc='upper right')\n",
    "        ax.set_xlabel(r'$log(\\lambda_{io}$)')\n",
    "        pdf.savefig()\n",
    "        plt.show()"
   ]
  },
  {
   "cell_type": "markdown",
   "metadata": {},
   "source": [
    "## CELU"
   ]
  },
  {
   "cell_type": "code",
   "execution_count": 3,
   "metadata": {},
   "outputs": [
    {
     "name": "stdout",
     "output_type": "stream",
     "text": [
      "train model without ELSA\n",
      "------------------------------\n",
      "| end of epoch   1 | time / epoch  6.98s | loss  2.28\n",
      "| end of epoch   2 | time / epoch  7.03s | loss  2.23\n",
      "| end of epoch   3 | time / epoch  7.07s | loss  2.18\n",
      "| end of epoch   4 | time / epoch  6.83s | loss  2.13\n",
      "| end of epoch   5 | time / epoch  6.91s | loss  2.09\n",
      "| end of epoch   6 | time / epoch  6.90s | loss  2.05\n",
      "| end of epoch   7 | time / epoch  7.03s | loss  2.02\n",
      "| end of epoch   8 | time / epoch  6.98s | loss  2.00\n",
      "| end of epoch   9 | time / epoch  6.94s | loss  1.98\n",
      "| end of epoch  10 | time / epoch  7.00s | loss  1.96\n",
      "\n",
      "train model with ELSA\n",
      "------------------------------\n",
      "| end of epoch   1 | time / epoch  6.83s | loss  1.89\n",
      "| end of epoch   2 | time / epoch  6.88s | loss  1.70\n",
      "| end of epoch   3 | time / epoch  6.99s | loss  1.63\n",
      "| end of epoch   4 | time / epoch  7.41s | loss  1.59\n",
      "| end of epoch   5 | time / epoch  7.15s | loss  1.55\n",
      "| end of epoch   6 | time / epoch  7.18s | loss  1.52\n",
      "| end of epoch   7 | time / epoch  7.08s | loss  1.50\n",
      "| end of epoch   8 | time / epoch  7.04s | loss  1.47\n",
      "| end of epoch   9 | time / epoch  7.09s | loss  1.45\n",
      "| end of epoch  10 | time / epoch  7.25s | loss  1.43\n"
     ]
    },
    {
     "data": {
      "image/png": "[encoded data removed]",
      "text/plain": [
       "<Figure size 432x288 with 1 Axes>"
      ]
     },
     "metadata": {
      "needs_background": "light"
     },
     "output_type": "display_data"
    }
   ],
   "source": [
    "setup_and_train(activation=\"CELU\")"
   ]
  },
  {
   "cell_type": "markdown",
   "metadata": {},
   "source": [
    "## ELU"
   ]
  },
  {
   "cell_type": "code",
   "execution_count": 4,
   "metadata": {},
   "outputs": [
    {
     "name": "stdout",
     "output_type": "stream",
     "text": [
      "train model without ELSA\n",
      "------------------------------\n",
      "| end of epoch   1 | time / epoch  7.05s | loss  2.28\n",
      "| end of epoch   2 | time / epoch  6.94s | loss  2.23\n",
      "| end of epoch   3 | time / epoch  7.07s | loss  2.18\n",
      "| end of epoch   4 | time / epoch  6.86s | loss  2.13\n",
      "| end of epoch   5 | time / epoch  7.02s | loss  2.09\n",
      "| end of epoch   6 | time / epoch  7.05s | loss  2.06\n",
      "| end of epoch   7 | time / epoch  7.07s | loss  2.03\n",
      "| end of epoch   8 | time / epoch  6.96s | loss  2.00\n",
      "| end of epoch   9 | time / epoch  6.90s | loss  1.98\n",
      "| end of epoch  10 | time / epoch  7.01s | loss  1.96\n",
      "\n",
      "train model with ELSA\n",
      "------------------------------\n",
      "| end of epoch   1 | time / epoch  6.85s | loss  1.90\n",
      "| end of epoch   2 | time / epoch  7.03s | loss  1.71\n",
      "| end of epoch   3 | time / epoch  6.87s | loss  1.64\n",
      "| end of epoch   4 | time / epoch  7.00s | loss  1.59\n",
      "| end of epoch   5 | time / epoch  7.12s | loss  1.55\n",
      "| end of epoch   6 | time / epoch  6.86s | loss  1.52\n",
      "| end of epoch   7 | time / epoch  7.29s | loss  1.49\n",
      "| end of epoch   8 | time / epoch  7.30s | loss  1.47\n",
      "| end of epoch   9 | time / epoch  7.08s | loss  1.45\n",
      "| end of epoch  10 | time / epoch  6.95s | loss  1.43\n"
     ]
    },
    {
     "data": {
      "image/png": "[encoded data removed]",
      "text/plain": [
       "<Figure size 432x288 with 1 Axes>"
      ]
     },
     "metadata": {
      "needs_background": "light"
     },
     "output_type": "display_data"
    }
   ],
   "source": [
    "setup_and_train(activation=\"ELU\")"
   ]
  },
  {
   "cell_type": "markdown",
   "metadata": {},
   "source": [
    "## GELU"
   ]
  },
  {
   "cell_type": "code",
   "execution_count": 5,
   "metadata": {},
   "outputs": [
    {
     "name": "stdout",
     "output_type": "stream",
     "text": [
      "train model without ELSA\n",
      "------------------------------\n",
      "| end of epoch   1 | time / epoch  6.93s | loss  2.30\n",
      "| end of epoch   2 | time / epoch  7.08s | loss  2.30\n",
      "| end of epoch   3 | time / epoch  6.90s | loss  2.30\n",
      "| end of epoch   4 | time / epoch  7.13s | loss  2.30\n",
      "| end of epoch   5 | time / epoch  7.16s | loss  2.30\n",
      "| end of epoch   6 | time / epoch  6.91s | loss  2.29\n",
      "| end of epoch   7 | time / epoch  7.09s | loss  2.29\n",
      "| end of epoch   8 | time / epoch  6.99s | loss  2.29\n",
      "| end of epoch   9 | time / epoch  7.09s | loss  2.29\n",
      "| end of epoch  10 | time / epoch  6.96s | loss  2.28\n",
      "\n",
      "train model with ELSA\n",
      "------------------------------\n",
      "| end of epoch   1 | time / epoch  7.05s | loss  1.95\n",
      "| end of epoch   2 | time / epoch  7.21s | loss  1.74\n",
      "| end of epoch   3 | time / epoch  6.97s | loss  1.66\n",
      "| end of epoch   4 | time / epoch  6.99s | loss  1.61\n",
      "| end of epoch   5 | time / epoch  7.03s | loss  1.57\n",
      "| end of epoch   6 | time / epoch  6.83s | loss  1.54\n",
      "| end of epoch   7 | time / epoch  6.92s | loss  1.51\n",
      "| end of epoch   8 | time / epoch  6.89s | loss  1.49\n",
      "| end of epoch   9 | time / epoch  7.59s | loss  1.47\n",
      "| end of epoch  10 | time / epoch  7.50s | loss  1.45\n"
     ]
    },
    {
     "data": {
      "image/png": "[encoded data removed]",
      "text/plain": [
       "<Figure size 432x288 with 1 Axes>"
      ]
     },
     "metadata": {
      "needs_background": "light"
     },
     "output_type": "display_data"
    }
   ],
   "source": [
    "setup_and_train(activation=\"GELU\")"
   ]
  },
  {
   "cell_type": "markdown",
   "metadata": {},
   "source": [
    "## LeakyReLu"
   ]
  },
  {
   "cell_type": "code",
   "execution_count": 6,
   "metadata": {},
   "outputs": [
    {
     "name": "stdout",
     "output_type": "stream",
     "text": [
      "train model without ELSA\n",
      "------------------------------\n",
      "| end of epoch   1 | time / epoch  7.09s | loss  2.30\n",
      "| end of epoch   2 | time / epoch  7.11s | loss  2.30\n",
      "| end of epoch   3 | time / epoch  7.14s | loss  2.29\n",
      "| end of epoch   4 | time / epoch  7.18s | loss  2.29\n",
      "| end of epoch   5 | time / epoch  6.99s | loss  2.28\n",
      "| end of epoch   6 | time / epoch  7.02s | loss  2.28\n",
      "| end of epoch   7 | time / epoch  7.00s | loss  2.27\n",
      "| end of epoch   8 | time / epoch  6.98s | loss  2.26\n",
      "| end of epoch   9 | time / epoch  6.96s | loss  2.25\n",
      "| end of epoch  10 | time / epoch  7.13s | loss  2.23\n",
      "\n",
      "train model with ELSA\n",
      "------------------------------\n",
      "| end of epoch   1 | time / epoch  7.15s | loss  1.92\n",
      "| end of epoch   2 | time / epoch  6.92s | loss  1.73\n",
      "| end of epoch   3 | time / epoch  7.06s | loss  1.65\n",
      "| end of epoch   4 | time / epoch  7.07s | loss  1.60\n",
      "| end of epoch   5 | time / epoch  6.99s | loss  1.56\n",
      "| end of epoch   6 | time / epoch  6.92s | loss  1.52\n",
      "| end of epoch   7 | time / epoch  6.91s | loss  1.49\n",
      "| end of epoch   8 | time / epoch  6.97s | loss  1.47\n",
      "| end of epoch   9 | time / epoch  7.01s | loss  1.44\n",
      "| end of epoch  10 | time / epoch  7.03s | loss  1.42\n"
     ]
    },
    {
     "data": {
      "image/png": "[encoded data removed]",
      "text/plain": [
       "<Figure size 432x288 with 1 Axes>"
      ]
     },
     "metadata": {
      "needs_background": "light"
     },
     "output_type": "display_data"
    }
   ],
   "source": [
    "setup_and_train(activation=\"LeakyReLU\")"
   ]
  },
  {
   "cell_type": "markdown",
   "metadata": {},
   "source": [
    "## Maxout"
   ]
  },
  {
   "cell_type": "code",
   "execution_count": 7,
   "metadata": {},
   "outputs": [
    {
     "name": "stdout",
     "output_type": "stream",
     "text": [
      "train model without ELSA\n",
      "------------------------------\n",
      "| end of epoch   1 | time / epoch  7.52s | loss  2.26\n",
      "| end of epoch   2 | time / epoch  7.62s | loss  2.18\n",
      "| end of epoch   3 | time / epoch  7.08s | loss  2.12\n",
      "| end of epoch   4 | time / epoch  7.11s | loss  2.07\n",
      "| end of epoch   5 | time / epoch  6.99s | loss  2.03\n",
      "| end of epoch   6 | time / epoch  7.02s | loss  2.00\n",
      "| end of epoch   7 | time / epoch  7.04s | loss  1.98\n",
      "| end of epoch   8 | time / epoch  7.01s | loss  1.96\n",
      "| end of epoch   9 | time / epoch  7.01s | loss  1.94\n",
      "| end of epoch  10 | time / epoch  7.12s | loss  1.93\n",
      "\n",
      "train model with ELSA\n",
      "------------------------------\n",
      "| end of epoch   1 | time / epoch  6.97s | loss  1.89\n",
      "| end of epoch   2 | time / epoch  6.94s | loss  1.73\n",
      "| end of epoch   3 | time / epoch  7.02s | loss  1.66\n",
      "| end of epoch   4 | time / epoch  7.10s | loss  1.62\n",
      "| end of epoch   5 | time / epoch  7.03s | loss  1.58\n",
      "| end of epoch   6 | time / epoch  6.93s | loss  1.55\n",
      "| end of epoch   7 | time / epoch  7.04s | loss  1.53\n",
      "| end of epoch   8 | time / epoch  7.08s | loss  1.51\n",
      "| end of epoch   9 | time / epoch  7.14s | loss  1.49\n",
      "| end of epoch  10 | time / epoch  7.15s | loss  1.47\n"
     ]
    },
    {
     "data": {
      "image/png": "[encoded data removed]",
      "text/plain": [
       "<Figure size 432x288 with 1 Axes>"
      ]
     },
     "metadata": {
      "needs_background": "light"
     },
     "output_type": "display_data"
    }
   ],
   "source": [
    "setup_and_train(activation=\"Maxout\")"
   ]
  },
  {
   "cell_type": "markdown",
   "metadata": {},
   "source": [
    "## ReLU"
   ]
  },
  {
   "cell_type": "code",
   "execution_count": 8,
   "metadata": {},
   "outputs": [
    {
     "name": "stdout",
     "output_type": "stream",
     "text": [
      "train model without ELSA\n",
      "------------------------------\n",
      "| end of epoch   1 | time / epoch  6.97s | loss  2.30\n",
      "| end of epoch   2 | time / epoch  6.98s | loss  2.30\n",
      "| end of epoch   3 | time / epoch  6.91s | loss  2.29\n",
      "| end of epoch   4 | time / epoch  7.23s | loss  2.29\n",
      "| end of epoch   5 | time / epoch  7.58s | loss  2.28\n",
      "| end of epoch   6 | time / epoch  6.90s | loss  2.27\n",
      "| end of epoch   7 | time / epoch  7.03s | loss  2.27\n",
      "| end of epoch   8 | time / epoch  6.86s | loss  2.26\n",
      "| end of epoch   9 | time / epoch  7.02s | loss  2.24\n",
      "| end of epoch  10 | time / epoch  6.99s | loss  2.23\n",
      "\n",
      "train model with ELSA\n",
      "------------------------------\n",
      "| end of epoch   1 | time / epoch  6.88s | loss  1.94\n",
      "| end of epoch   2 | time / epoch  7.02s | loss  1.74\n",
      "| end of epoch   3 | time / epoch  7.01s | loss  1.66\n",
      "| end of epoch   4 | time / epoch  7.05s | loss  1.60\n",
      "| end of epoch   5 | time / epoch  6.90s | loss  1.56\n",
      "| end of epoch   6 | time / epoch  7.06s | loss  1.53\n",
      "| end of epoch   7 | time / epoch  7.19s | loss  1.50\n",
      "| end of epoch   8 | time / epoch  6.89s | loss  1.47\n",
      "| end of epoch   9 | time / epoch  6.99s | loss  1.44\n",
      "| end of epoch  10 | time / epoch  7.21s | loss  1.42\n"
     ]
    },
    {
     "data": {
      "image/png": "[encoded data removed]",
      "text/plain": [
       "<Figure size 432x288 with 1 Axes>"
      ]
     },
     "metadata": {
      "needs_background": "light"
     },
     "output_type": "display_data"
    }
   ],
   "source": [
    "setup_and_train(activation=\"ReLU\")"
   ]
  },
  {
   "cell_type": "markdown",
   "metadata": {},
   "source": [
    "## ReLU6"
   ]
  },
  {
   "cell_type": "code",
   "execution_count": 9,
   "metadata": {},
   "outputs": [
    {
     "name": "stdout",
     "output_type": "stream",
     "text": [
      "train model without ELSA\n",
      "------------------------------\n",
      "| end of epoch   1 | time / epoch  6.92s | loss  2.30\n",
      "| end of epoch   2 | time / epoch  6.86s | loss  2.30\n",
      "| end of epoch   3 | time / epoch  7.06s | loss  2.29\n",
      "| end of epoch   4 | time / epoch  6.91s | loss  2.29\n",
      "| end of epoch   5 | time / epoch  6.75s | loss  2.28\n",
      "| end of epoch   6 | time / epoch  7.39s | loss  2.27\n",
      "| end of epoch   7 | time / epoch  7.24s | loss  2.26\n",
      "| end of epoch   8 | time / epoch  7.22s | loss  2.25\n",
      "| end of epoch   9 | time / epoch  7.09s | loss  2.24\n",
      "| end of epoch  10 | time / epoch  7.13s | loss  2.22\n",
      "\n",
      "train model with ELSA\n",
      "------------------------------\n",
      "| end of epoch   1 | time / epoch  7.13s | loss  1.92\n",
      "| end of epoch   2 | time / epoch  7.08s | loss  1.72\n",
      "| end of epoch   3 | time / epoch  6.85s | loss  1.64\n",
      "| end of epoch   4 | time / epoch  7.03s | loss  1.59\n",
      "| end of epoch   5 | time / epoch  7.07s | loss  1.55\n",
      "| end of epoch   6 | time / epoch  7.04s | loss  1.51\n",
      "| end of epoch   7 | time / epoch  7.05s | loss  1.49\n",
      "| end of epoch   8 | time / epoch  7.01s | loss  1.46\n",
      "| end of epoch   9 | time / epoch  7.03s | loss  1.43\n",
      "| end of epoch  10 | time / epoch  7.03s | loss  1.41\n"
     ]
    },
    {
     "data": {
      "image/png": "[encoded data removed]",
      "text/plain": [
       "<Figure size 432x288 with 1 Axes>"
      ]
     },
     "metadata": {
      "needs_background": "light"
     },
     "output_type": "display_data"
    }
   ],
   "source": [
    "setup_and_train(activation=\"ReLU6\")"
   ]
  },
  {
   "cell_type": "markdown",
   "metadata": {},
   "source": [
    "## RReLU"
   ]
  },
  {
   "cell_type": "code",
   "execution_count": 10,
   "metadata": {},
   "outputs": [
    {
     "name": "stdout",
     "output_type": "stream",
     "text": [
      "train model without ELSA\n",
      "------------------------------\n",
      "| end of epoch   1 | time / epoch  6.99s | loss  2.30\n",
      "| end of epoch   2 | time / epoch  7.02s | loss  2.29\n",
      "| end of epoch   3 | time / epoch  7.05s | loss  2.28\n",
      "| end of epoch   4 | time / epoch  7.11s | loss  2.27\n",
      "| end of epoch   5 | time / epoch  6.89s | loss  2.26\n",
      "| end of epoch   6 | time / epoch  7.00s | loss  2.24\n",
      "| end of epoch   7 | time / epoch  7.10s | loss  2.22\n",
      "| end of epoch   8 | time / epoch  7.57s | loss  2.20\n",
      "| end of epoch   9 | time / epoch  7.01s | loss  2.18\n",
      "| end of epoch  10 | time / epoch  7.59s | loss  2.15\n",
      "\n",
      "train model with ELSA\n",
      "------------------------------\n",
      "| end of epoch   1 | time / epoch  6.90s | loss  1.90\n",
      "| end of epoch   2 | time / epoch  7.12s | loss  1.72\n",
      "| end of epoch   3 | time / epoch  7.11s | loss  1.64\n",
      "| end of epoch   4 | time / epoch  7.12s | loss  1.59\n",
      "| end of epoch   5 | time / epoch  7.04s | loss  1.55\n",
      "| end of epoch   6 | time / epoch  7.15s | loss  1.52\n",
      "| end of epoch   7 | time / epoch  7.10s | loss  1.49\n",
      "| end of epoch   8 | time / epoch  7.07s | loss  1.47\n",
      "| end of epoch   9 | time / epoch  7.19s | loss  1.44\n",
      "| end of epoch  10 | time / epoch  7.03s | loss  1.42\n"
     ]
    },
    {
     "data": {
      "image/png": "[encoded data removed]",
      "text/plain": [
       "<Figure size 432x288 with 1 Axes>"
      ]
     },
     "metadata": {
      "needs_background": "light"
     },
     "output_type": "display_data"
    }
   ],
   "source": [
    "setup_and_train(activation=\"RReLU\")"
   ]
  },
  {
   "cell_type": "markdown",
   "metadata": {},
   "source": [
    "## SELU"
   ]
  },
  {
   "cell_type": "code",
   "execution_count": 11,
   "metadata": {},
   "outputs": [
    {
     "name": "stdout",
     "output_type": "stream",
     "text": [
      "train model without ELSA\n",
      "------------------------------\n",
      "| end of epoch   1 | time / epoch  6.97s | loss  2.19\n",
      "| end of epoch   2 | time / epoch  7.04s | loss  2.06\n",
      "| end of epoch   3 | time / epoch  6.87s | loss  1.99\n",
      "| end of epoch   4 | time / epoch  7.00s | loss  1.94\n",
      "| end of epoch   5 | time / epoch  7.01s | loss  1.91\n",
      "| end of epoch   6 | time / epoch  7.14s | loss  1.88\n",
      "| end of epoch   7 | time / epoch  7.04s | loss  1.86\n",
      "| end of epoch   8 | time / epoch  7.07s | loss  1.85\n",
      "| end of epoch   9 | time / epoch  6.91s | loss  1.83\n",
      "| end of epoch  10 | time / epoch  7.58s | loss  1.82\n",
      "\n",
      "train model with ELSA\n",
      "------------------------------\n",
      "| end of epoch   1 | time / epoch  7.43s | loss  1.88\n",
      "| end of epoch   2 | time / epoch  7.41s | loss  1.69\n",
      "| end of epoch   3 | time / epoch  7.17s | loss  1.62\n",
      "| end of epoch   4 | time / epoch  7.26s | loss  1.58\n",
      "| end of epoch   5 | time / epoch  7.07s | loss  1.54\n",
      "| end of epoch   6 | time / epoch  7.10s | loss  1.51\n",
      "| end of epoch   7 | time / epoch  7.03s | loss  1.49\n",
      "| end of epoch   8 | time / epoch  7.14s | loss  1.47\n",
      "| end of epoch   9 | time / epoch  6.98s | loss  1.45\n",
      "| end of epoch  10 | time / epoch  7.07s | loss  1.43\n"
     ]
    },
    {
     "data": {
      "image/png": "[encoded data removed]",
      "text/plain": [
       "<Figure size 432x288 with 1 Axes>"
      ]
     },
     "metadata": {
      "needs_background": "light"
     },
     "output_type": "display_data"
    }
   ],
   "source": [
    "setup_and_train(activation=\"SELU\")"
   ]
  },
  {
   "cell_type": "markdown",
   "metadata": {},
   "source": [
    "## Sigmoid"
   ]
  },
  {
   "cell_type": "code",
   "execution_count": 10,
   "metadata": {},
   "outputs": [
    {
     "name": "stdout",
     "output_type": "stream",
     "text": [
      "train model without ELSA\n",
      "------------------------------\n",
      "| end of epoch   1 | time / epoch  6.97s | loss  2.32\n",
      "| end of epoch   2 | time / epoch  6.95s | loss  2.30\n",
      "| end of epoch   3 | time / epoch  6.86s | loss  2.30\n",
      "| end of epoch   4 | time / epoch  6.97s | loss  2.30\n",
      "| end of epoch   5 | time / epoch  7.02s | loss  2.30\n",
      "| end of epoch   6 | time / epoch  6.88s | loss  2.30\n",
      "| end of epoch   7 | time / epoch  6.96s | loss  2.30\n",
      "| end of epoch   8 | time / epoch  6.90s | loss  2.30\n",
      "| end of epoch   9 | time / epoch  6.94s | loss  2.30\n",
      "| end of epoch  10 | time / epoch  7.02s | loss  2.30\n",
      "\n",
      "train model with ELSA\n",
      "------------------------------\n",
      "| end of epoch   1 | time / epoch  6.79s | loss  2.02\n",
      "| end of epoch   2 | time / epoch  6.97s | loss  1.84\n",
      "| end of epoch   3 | time / epoch  6.76s | loss  1.78\n",
      "| end of epoch   4 | time / epoch  7.33s | loss  1.73\n",
      "| end of epoch   5 | time / epoch  7.40s | loss  1.70\n",
      "| end of epoch   6 | time / epoch  6.84s | loss  1.67\n",
      "| end of epoch   7 | time / epoch  7.07s | loss  1.64\n",
      "| end of epoch   8 | time / epoch  7.00s | loss  1.62\n",
      "| end of epoch   9 | time / epoch  7.11s | loss  1.59\n",
      "| end of epoch  10 | time / epoch  7.00s | loss  1.57\n"
     ]
    },
    {
     "data": {
      "image/png": "[encoded data removed]",
      "text/plain": [
       "<Figure size 432x288 with 1 Axes>"
      ]
     },
     "metadata": {
      "needs_background": "light"
     },
     "output_type": "display_data"
    }
   ],
   "source": [
    "setup_and_train(activation=\"Sigmoid\")"
   ]
  },
  {
   "cell_type": "markdown",
   "metadata": {},
   "source": [
    "## Softplus"
   ]
  },
  {
   "cell_type": "code",
   "execution_count": 13,
   "metadata": {},
   "outputs": [
    {
     "name": "stdout",
     "output_type": "stream",
     "text": [
      "train model without ELSA\n",
      "------------------------------\n",
      "| end of epoch   1 | time / epoch  6.91s | loss  2.31\n",
      "| end of epoch   2 | time / epoch  7.10s | loss  2.30\n",
      "| end of epoch   3 | time / epoch  7.20s | loss  2.30\n",
      "| end of epoch   4 | time / epoch  7.03s | loss  2.30\n",
      "| end of epoch   5 | time / epoch  7.07s | loss  2.30\n",
      "| end of epoch   6 | time / epoch  7.03s | loss  2.29\n",
      "| end of epoch   7 | time / epoch  7.05s | loss  2.29\n",
      "| end of epoch   8 | time / epoch  6.95s | loss  2.29\n",
      "| end of epoch   9 | time / epoch  7.06s | loss  2.29\n",
      "| end of epoch  10 | time / epoch  7.13s | loss  2.28\n",
      "\n",
      "train model with ELSA\n",
      "------------------------------\n",
      "| end of epoch   1 | time / epoch  6.99s | loss  1.96\n",
      "| end of epoch   2 | time / epoch  7.07s | loss  1.78\n",
      "| end of epoch   3 | time / epoch  7.12s | loss  1.72\n",
      "| end of epoch   4 | time / epoch  7.86s | loss  1.67\n",
      "| end of epoch   5 | time / epoch  7.24s | loss  1.63\n",
      "| end of epoch   6 | time / epoch  7.44s | loss  1.60\n",
      "| end of epoch   7 | time / epoch  7.12s | loss  1.57\n",
      "| end of epoch   8 | time / epoch  7.25s | loss  1.55\n",
      "| end of epoch   9 | time / epoch  7.31s | loss  1.53\n",
      "| end of epoch  10 | time / epoch  7.28s | loss  1.51\n"
     ]
    },
    {
     "data": {
      "image/png": "[encoded data removed]",
      "text/plain": [
       "<Figure size 432x288 with 1 Axes>"
      ]
     },
     "metadata": {
      "needs_background": "light"
     },
     "output_type": "display_data"
    }
   ],
   "source": [
    "setup_and_train(activation=\"Softplus\")"
   ]
  },
  {
   "cell_type": "markdown",
   "metadata": {},
   "source": [
    "## Swish"
   ]
  },
  {
   "cell_type": "code",
   "execution_count": 14,
   "metadata": {},
   "outputs": [
    {
     "name": "stdout",
     "output_type": "stream",
     "text": [
      "train model without ELSA\n",
      "------------------------------\n",
      "| end of epoch   1 | time / epoch  7.03s | loss  2.30\n",
      "| end of epoch   2 | time / epoch  7.31s | loss  2.30\n",
      "| end of epoch   3 | time / epoch  6.89s | loss  2.30\n",
      "| end of epoch   4 | time / epoch  7.15s | loss  2.30\n",
      "| end of epoch   5 | time / epoch  6.99s | loss  2.30\n",
      "| end of epoch   6 | time / epoch  7.19s | loss  2.29\n",
      "| end of epoch   7 | time / epoch  6.98s | loss  2.29\n",
      "| end of epoch   8 | time / epoch  7.06s | loss  2.29\n",
      "| end of epoch   9 | time / epoch  7.09s | loss  2.29\n",
      "| end of epoch  10 | time / epoch  6.97s | loss  2.28\n",
      "\n",
      "train model with ELSA\n",
      "------------------------------\n",
      "| end of epoch   1 | time / epoch  7.15s | loss  1.95\n",
      "| end of epoch   2 | time / epoch  7.05s | loss  1.76\n",
      "| end of epoch   3 | time / epoch  7.02s | loss  1.69\n",
      "| end of epoch   4 | time / epoch  7.12s | loss  1.64\n",
      "| end of epoch   5 | time / epoch  7.04s | loss  1.60\n",
      "| end of epoch   6 | time / epoch  7.47s | loss  1.57\n",
      "| end of epoch   7 | time / epoch  7.07s | loss  1.54\n",
      "| end of epoch   8 | time / epoch  7.26s | loss  1.52\n",
      "| end of epoch   9 | time / epoch  7.11s | loss  1.50\n",
      "| end of epoch  10 | time / epoch  7.01s | loss  1.48\n"
     ]
    },
    {
     "data": {
      "image/png": "[encoded data removed]",
      "text/plain": [
       "<Figure size 432x288 with 1 Axes>"
      ]
     },
     "metadata": {
      "needs_background": "light"
     },
     "output_type": "display_data"
    }
   ],
   "source": [
    "setup_and_train(activation=\"Swish\")"
   ]
  },
  {
   "cell_type": "markdown",
   "metadata": {},
   "source": [
    "## Tanh"
   ]
  },
  {
   "cell_type": "code",
   "execution_count": 15,
   "metadata": {},
   "outputs": [
    {
     "name": "stdout",
     "output_type": "stream",
     "text": [
      "train model without ELSA\n",
      "------------------------------\n",
      "| end of epoch   1 | time / epoch  6.94s | loss  2.28\n",
      "| end of epoch   2 | time / epoch  7.08s | loss  2.23\n",
      "| end of epoch   3 | time / epoch  6.95s | loss  2.18\n",
      "| end of epoch   4 | time / epoch  7.13s | loss  2.13\n",
      "| end of epoch   5 | time / epoch  6.95s | loss  2.09\n",
      "| end of epoch   6 | time / epoch  6.94s | loss  2.05\n",
      "| end of epoch   7 | time / epoch  7.10s | loss  2.02\n",
      "| end of epoch   8 | time / epoch  7.10s | loss  1.99\n",
      "| end of epoch   9 | time / epoch  7.20s | loss  1.97\n",
      "| end of epoch  10 | time / epoch  7.18s | loss  1.95\n",
      "\n",
      "train model with ELSA\n",
      "------------------------------\n",
      "| end of epoch   1 | time / epoch  7.02s | loss  1.90\n",
      "| end of epoch   2 | time / epoch  6.98s | loss  1.73\n",
      "| end of epoch   3 | time / epoch  7.05s | loss  1.67\n",
      "| end of epoch   4 | time / epoch  7.08s | loss  1.62\n",
      "| end of epoch   5 | time / epoch  7.10s | loss  1.58\n",
      "| end of epoch   6 | time / epoch  7.03s | loss  1.55\n",
      "| end of epoch   7 | time / epoch  6.93s | loss  1.53\n",
      "| end of epoch   8 | time / epoch  6.90s | loss  1.51\n",
      "| end of epoch   9 | time / epoch  7.57s | loss  1.49\n",
      "| end of epoch  10 | time / epoch  7.42s | loss  1.47\n"
     ]
    },
    {
     "data": {
      "image/png": "[encoded data removed]",
      "text/plain": [
       "<Figure size 432x288 with 1 Axes>"
      ]
     },
     "metadata": {
      "needs_background": "light"
     },
     "output_type": "display_data"
    }
   ],
   "source": [
    "setup_and_train(activation=\"Tanh\")"
   ]
  },
  {
   "cell_type": "markdown",
   "metadata": {},
   "source": [
    "## APL"
   ]
  },
  {
   "cell_type": "code",
   "execution_count": 16,
   "metadata": {},
   "outputs": [
    {
     "name": "stdout",
     "output_type": "stream",
     "text": [
      "train model without ELSA\n",
      "------------------------------\n"
     ]
    },
    {
     "name": "stderr",
     "output_type": "stream",
     "text": [
      "/home/densechen/miniconda3/envs/pytorch/lib/python3.8/site-packages/torch/nn/modules/container.py:435: UserWarning: Setting attributes on ParameterList is not supported.\n",
      "  warnings.warn(\"Setting attributes on ParameterList is not supported.\")\n"
     ]
    },
    {
     "name": "stdout",
     "output_type": "stream",
     "text": [
      "| end of epoch   1 | time / epoch  7.06s | loss  2.31\n",
      "| end of epoch   2 | time / epoch  7.07s | loss  2.30\n",
      "| end of epoch   3 | time / epoch  7.13s | loss  2.30\n",
      "| end of epoch   4 | time / epoch  7.03s | loss  2.30\n",
      "| end of epoch   5 | time / epoch  7.04s | loss  2.30\n",
      "| end of epoch   6 | time / epoch  7.18s | loss  2.30\n",
      "| end of epoch   7 | time / epoch  6.98s | loss  2.30\n",
      "| end of epoch   8 | time / epoch  7.09s | loss  2.29\n",
      "| end of epoch   9 | time / epoch  6.99s | loss  2.29\n",
      "| end of epoch  10 | time / epoch  7.17s | loss  2.29\n",
      "\n",
      "train model with ELSA\n",
      "------------------------------\n",
      "| end of epoch   1 | time / epoch  7.03s | loss  1.97\n",
      "| end of epoch   2 | time / epoch  7.22s | loss  1.75\n",
      "| end of epoch   3 | time / epoch  7.01s | loss  1.67\n",
      "| end of epoch   4 | time / epoch  7.14s | loss  1.61\n",
      "| end of epoch   5 | time / epoch  7.12s | loss  1.57\n",
      "| end of epoch   6 | time / epoch  7.07s | loss  1.54\n",
      "| end of epoch   7 | time / epoch  7.03s | loss  1.51\n",
      "| end of epoch   8 | time / epoch  7.06s | loss  1.48\n",
      "| end of epoch   9 | time / epoch  7.23s | loss  1.45\n",
      "| end of epoch  10 | time / epoch  7.52s | loss  1.43\n"
     ]
    },
    {
     "data": {
      "image/png": "[encoded data removed]",
      "text/plain": [
       "<Figure size 432x288 with 1 Axes>"
      ]
     },
     "metadata": {
      "needs_background": "light"
     },
     "output_type": "display_data"
    }
   ],
   "source": [
    "setup_and_train(activation=\"APL\")"
   ]
  },
  {
   "cell_type": "markdown",
   "metadata": {},
   "source": [
    "## Mixture"
   ]
  },
  {
   "cell_type": "code",
   "execution_count": 17,
   "metadata": {},
   "outputs": [
    {
     "name": "stdout",
     "output_type": "stream",
     "text": [
      "train model without ELSA\n",
      "------------------------------\n",
      "| end of epoch   1 | time / epoch  7.54s | loss  2.30\n",
      "| end of epoch   2 | time / epoch  7.55s | loss  2.30\n",
      "| end of epoch   3 | time / epoch  7.11s | loss  2.29\n",
      "| end of epoch   4 | time / epoch  7.02s | loss  2.29\n",
      "| end of epoch   5 | time / epoch  6.98s | loss  2.28\n",
      "| end of epoch   6 | time / epoch  6.96s | loss  2.27\n",
      "| end of epoch   7 | time / epoch  6.99s | loss  2.26\n",
      "| end of epoch   8 | time / epoch  7.03s | loss  2.25\n",
      "| end of epoch   9 | time / epoch  7.16s | loss  2.23\n",
      "| end of epoch  10 | time / epoch  7.01s | loss  2.21\n",
      "\n",
      "train model with ELSA\n",
      "------------------------------\n",
      "| end of epoch   1 | time / epoch  7.10s | loss  1.93\n",
      "| end of epoch   2 | time / epoch  6.95s | loss  1.73\n",
      "| end of epoch   3 | time / epoch  7.15s | loss  1.65\n",
      "| end of epoch   4 | time / epoch  7.04s | loss  1.59\n",
      "| end of epoch   5 | time / epoch  7.13s | loss  1.55\n",
      "| end of epoch   6 | time / epoch  7.10s | loss  1.52\n",
      "| end of epoch   7 | time / epoch  7.05s | loss  1.49\n",
      "| end of epoch   8 | time / epoch  7.00s | loss  1.47\n",
      "| end of epoch   9 | time / epoch  7.18s | loss  1.44\n",
      "| end of epoch  10 | time / epoch  7.21s | loss  1.42\n"
     ]
    },
    {
     "data": {
      "image/png": "[encoded data removed]",
      "text/plain": [
       "<Figure size 432x288 with 1 Axes>"
      ]
     },
     "metadata": {
      "needs_background": "light"
     },
     "output_type": "display_data"
    }
   ],
   "source": [
    "setup_and_train(activation=\"Mixture\")"
   ]
  },
  {
   "cell_type": "markdown",
   "metadata": {},
   "source": [
    "## PAU"
   ]
  },
  {
   "cell_type": "code",
   "execution_count": 4,
   "metadata": {},
   "outputs": [
    {
     "name": "stdout",
     "output_type": "stream",
     "text": [
      "train model without ELSA\n",
      "------------------------------\n",
      "| end of epoch   1 | time / epoch  6.96s | loss  2.30\n",
      "| end of epoch   2 | time / epoch  6.79s | loss  2.30\n",
      "| end of epoch   3 | time / epoch  6.66s | loss  2.30\n",
      "| end of epoch   4 | time / epoch  6.73s | loss  2.30\n",
      "| end of epoch   5 | time / epoch  6.69s | loss  2.29\n",
      "| end of epoch   6 | time / epoch  6.61s | loss  2.29\n",
      "| end of epoch   7 | time / epoch  6.80s | loss  2.28\n",
      "| end of epoch   8 | time / epoch  6.81s | loss  2.28\n",
      "| end of epoch   9 | time / epoch  6.83s | loss  2.26\n",
      "| end of epoch  10 | time / epoch  6.61s | loss  2.25\n",
      "\n",
      "train model with ELSA\n",
      "------------------------------\n",
      "| end of epoch   1 | time / epoch  6.62s | loss  1.93\n",
      "| end of epoch   2 | time / epoch  6.74s | loss  1.72\n",
      "| end of epoch   3 | time / epoch  6.75s | loss  1.64\n",
      "| end of epoch   4 | time / epoch  6.76s | loss  1.59\n",
      "| end of epoch   5 | time / epoch  6.81s | loss  1.55\n",
      "| end of epoch   6 | time / epoch  6.81s | loss  1.52\n",
      "| end of epoch   7 | time / epoch  6.95s | loss  1.48\n",
      "| end of epoch   8 | time / epoch  6.78s | loss  1.46\n",
      "| end of epoch   9 | time / epoch  6.83s | loss  1.43\n",
      "| end of epoch  10 | time / epoch  6.92s | loss  1.40\n"
     ]
    },
    {
     "data": {
      "image/png": "[encoded data removed]",
      "text/plain": [
       "<Figure size 432x288 with 1 Axes>"
      ]
     },
     "metadata": {
      "needs_background": "light"
     },
     "output_type": "display_data"
    }
   ],
   "source": [
    "setup_and_train(activation=\"PAU\")"
   ]
  },
  {
   "cell_type": "markdown",
   "metadata": {},
   "source": [
    "## PReLU"
   ]
  },
  {
   "cell_type": "code",
   "execution_count": 5,
   "metadata": {},
   "outputs": [
    {
     "name": "stdout",
     "output_type": "stream",
     "text": [
      "train model without ELSA\n",
      "------------------------------\n",
      "| end of epoch   1 | time / epoch  6.78s | loss  2.30\n",
      "| end of epoch   2 | time / epoch  6.82s | loss  2.29\n",
      "| end of epoch   3 | time / epoch  7.14s | loss  2.29\n",
      "| end of epoch   4 | time / epoch  7.26s | loss  2.28\n",
      "| end of epoch   5 | time / epoch  6.91s | loss  2.26\n",
      "| end of epoch   6 | time / epoch  6.82s | loss  2.25\n",
      "| end of epoch   7 | time / epoch  6.83s | loss  2.23\n",
      "| end of epoch   8 | time / epoch  7.01s | loss  2.20\n",
      "| end of epoch   9 | time / epoch  6.85s | loss  2.17\n",
      "| end of epoch  10 | time / epoch  6.93s | loss  2.15\n",
      "\n",
      "train model with ELSA\n",
      "------------------------------\n",
      "| end of epoch   1 | time / epoch  6.81s | loss  1.93\n",
      "| end of epoch   2 | time / epoch  6.85s | loss  1.72\n",
      "| end of epoch   3 | time / epoch  6.89s | loss  1.65\n",
      "| end of epoch   4 | time / epoch  7.03s | loss  1.59\n",
      "| end of epoch   5 | time / epoch  6.79s | loss  1.56\n",
      "| end of epoch   6 | time / epoch  7.00s | loss  1.52\n",
      "| end of epoch   7 | time / epoch  6.91s | loss  1.50\n",
      "| end of epoch   8 | time / epoch  6.96s | loss  1.47\n",
      "| end of epoch   9 | time / epoch  6.76s | loss  1.45\n",
      "| end of epoch  10 | time / epoch  6.84s | loss  1.42\n"
     ]
    },
    {
     "data": {
      "image/png": "[encoded data removed]",
      "text/plain": [
       "<Figure size 432x288 with 1 Axes>"
      ]
     },
     "metadata": {
      "needs_background": "light"
     },
     "output_type": "display_data"
    }
   ],
   "source": [
    "setup_and_train(activation=\"PReLU\")"
   ]
  },
  {
   "cell_type": "markdown",
   "metadata": {},
   "source": [
    "## SLAF"
   ]
  },
  {
   "cell_type": "code",
   "execution_count": 6,
   "metadata": {},
   "outputs": [
    {
     "name": "stdout",
     "output_type": "stream",
     "text": [
      "train model without ELSA\n",
      "------------------------------\n"
     ]
    },
    {
     "name": "stderr",
     "output_type": "stream",
     "text": [
      "/home/densechen/miniconda3/envs/pytorch/lib/python3.8/site-packages/torch/nn/modules/container.py:435: UserWarning: Setting attributes on ParameterList is not supported.\n",
      "  warnings.warn(\"Setting attributes on ParameterList is not supported.\")\n"
     ]
    },
    {
     "name": "stdout",
     "output_type": "stream",
     "text": [
      "| end of epoch   1 | time / epoch  6.73s | loss  2.26\n",
      "| end of epoch   2 | time / epoch  6.81s | loss  2.18\n",
      "| end of epoch   3 | time / epoch  6.92s | loss  2.09\n",
      "| end of epoch   4 | time / epoch  6.73s | loss  2.02\n",
      "| end of epoch   5 | time / epoch  6.76s | loss  1.97\n",
      "| end of epoch   6 | time / epoch  6.83s | loss  1.93\n",
      "| end of epoch   7 | time / epoch  7.28s | loss  1.90\n",
      "| end of epoch   8 | time / epoch  6.81s | loss  1.88\n",
      "| end of epoch   9 | time / epoch  7.49s | loss  1.86\n",
      "| end of epoch  10 | time / epoch  6.94s | loss  1.84\n",
      "\n",
      "train model with ELSA\n",
      "------------------------------\n",
      "| end of epoch   1 | time / epoch  6.73s | loss  1.92\n",
      "| end of epoch   2 | time / epoch  6.96s | loss  1.74\n",
      "| end of epoch   3 | time / epoch  6.84s | loss  1.68\n",
      "| end of epoch   4 | time / epoch  6.93s | loss  1.64\n",
      "| end of epoch   5 | time / epoch  6.83s | loss  1.60\n",
      "| end of epoch   6 | time / epoch  6.86s | loss  1.57\n",
      "| end of epoch   7 | time / epoch  6.98s | loss  1.55\n",
      "| end of epoch   8 | time / epoch  7.02s | loss  1.53\n",
      "| end of epoch   9 | time / epoch  6.92s | loss  1.51\n",
      "| end of epoch  10 | time / epoch  6.78s | loss  1.49\n"
     ]
    },
    {
     "data": {
      "image/png": "[encoded data removed]",
      "text/plain": [
       "<Figure size 432x288 with 1 Axes>"
      ]
     },
     "metadata": {
      "needs_background": "light"
     },
     "output_type": "display_data"
    }
   ],
   "source": [
    "setup_and_train(activation=\"SLAF\")"
   ]
  },
  {
   "cell_type": "code",
   "execution_count": null,
   "metadata": {},
   "outputs": [],
   "source": []
  }
 ],
 "metadata": {
  "kernelspec": {
   "display_name": "Python 3",
   "language": "python",
   "name": "python3"
  },
  "language_info": {
   "codemirror_mode": {
    "name": "ipython",
    "version": 3
   },
   "file_extension": ".py",
   "mimetype": "text/x-python",
   "name": "python",
   "nbconvert_exporter": "python",
   "pygments_lexer": "ipython3",
   "version": "3.8.5"
  }
 },
 "nbformat": 4,
 "nbformat_minor": 4
}
